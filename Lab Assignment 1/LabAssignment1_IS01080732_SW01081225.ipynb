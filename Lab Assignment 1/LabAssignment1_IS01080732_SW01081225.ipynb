{
 "cells": [
  {
   "cell_type": "code",
   "execution_count": 1,
   "id": "7836f81c",
   "metadata": {},
   "outputs": [
    {
     "name": "stdout",
     "output_type": "stream",
     "text": [
      "Data has been saved to Shopee User Ratings (The Fan).csv.\n"
     ]
    }
   ],
   "source": [
    "import re\n",
    "import json\n",
    "import requests\n",
    "import csv\n",
    "import datetime\n",
    "\n",
    "# Replace the URL with the desired Shopee product URL\n",
    "url = 'https://shopee.com.my/JISULIFE-3-in-1-Portable-Fan-9000-mAh-Battery-Rechargeable-With-Air-Duster-Function-Mini-Fan-With-1-100-Speeds-LED-Display-Outdoor-Camping-i.310060557.23154647628'\n",
    "\n",
    "# Extract shop_id and item_id from the URL\n",
    "r = re.search(r'i\\.(\\d+)\\.(\\d+)', url)\n",
    "if r:\n",
    "    shop_id, item_id = r.group(1), r.group(2)\n",
    "else:\n",
    "    print(\"Invalid URL\")\n",
    "    exit()\n",
    "\n",
    "# Initialize offset and ratings_data list\n",
    "offset = 0\n",
    "ratings_data = []\n",
    "\n",
    "# Loop to fetch ratings data, limited to 150 records\n",
    "while offset < 150:\n",
    "    # Construct ratings URL based on the provided documentation with a limit of 20 records per request\n",
    "    ratings_url = f'https://shopee.sg/api/v2/item/get_ratings?shopid={shop_id}&itemid={item_id}&limit=20&offset={offset}&type=0&filter=0'\n",
    "\n",
    "    # Fetch data from the API endpoint\n",
    "    data = requests.get(ratings_url).json()\n",
    "\n",
    "    # Extract relevant information from the API response\n",
    "    for rating in data['data']['ratings']:\n",
    "        author_username = rating['author_username']\n",
    "        comment = rating['comment'].replace('\\n', ' ')  # Replace newline characters with a space\n",
    "        timestamp = rating['ctime']  # Extracting date information from the API response\n",
    "\n",
    "        # Convert Unix timestamp to datetime object\n",
    "        review_date = datetime.datetime.utcfromtimestamp(timestamp)\n",
    "        # Format the datetime object as a string with the desired format '1-Jan-2024'\n",
    "        formatted_review_date = review_date.strftime('%Y-%b-%d %H:%M:%S')\n",
    "\n",
    "        ratings_data.append([author_username, formatted_review_date, comment])  # Append formatted review date\n",
    "\n",
    "    # Break the loop if all desired records have been fetched\n",
    "    if len(data['data']['ratings']) < 20:\n",
    "        break\n",
    "\n",
    "    offset += 20\n",
    "\n",
    "# Write data to CSV file\n",
    "csv_file_name = 'Shopee User Ratings (The Fan).csv'\n",
    "with open(csv_file_name, 'w', newline='', encoding='utf-8') as csvfile:\n",
    "    writer = csv.writer(csvfile)\n",
    "    writer.writerow(['Name', 'Date', 'Content'])  # Write header with modified column names\n",
    "    writer.writerows(ratings_data)\n",
    "\n",
    "print(f\"Data has been saved to {csv_file_name}.\")\n"
   ]
  },
  {
   "cell_type": "code",
   "execution_count": null,
   "id": "4738f0b0",
   "metadata": {},
   "outputs": [],
   "source": []
  }
 ],
 "metadata": {
  "kernelspec": {
   "display_name": "Python 3 (ipykernel)",
   "language": "python",
   "name": "python3"
  },
  "language_info": {
   "codemirror_mode": {
    "name": "ipython",
    "version": 3
   },
   "file_extension": ".py",
   "mimetype": "text/x-python",
   "name": "python",
   "nbconvert_exporter": "python",
   "pygments_lexer": "ipython3",
   "version": "3.11.5"
  }
 },
 "nbformat": 4,
 "nbformat_minor": 5
}
